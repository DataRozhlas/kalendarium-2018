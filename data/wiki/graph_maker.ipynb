{
 "cells": [
  {
   "cell_type": "code",
   "execution_count": 16,
   "metadata": {},
   "outputs": [],
   "source": [
    "import requests\n",
    "import matplotlib.pyplot as plt"
   ]
  },
  {
   "cell_type": "code",
   "execution_count": 3,
   "metadata": {},
   "outputs": [],
   "source": [
    "# loading the article list\n",
    "arts = [\n",
    "  \"Marie Terezie\",\n",
    "  \"Jiří Drahoš\",\n",
    "  \"Miloš Zeman\",\n",
    "  \"Světlana Witowská\",\n",
    "  \"Petr Nedvěd\",\n",
    "  \"Gay pornografie\",\n",
    "  \"Zimní olympijské hry 2018\",\n",
    "  \"Ester Ledecká\",\n",
    "  \"Viktorie (britská královna)\",\n",
    "  \"Mezinárodní den žen\",\n",
    "  \"Stephen Hawking\",\n",
    "  \"Velikonoce\",\n",
    "  \"Velký pátek\",\n",
    "  \"Oliver Cromwell\",\n",
    "  \"Miloš Forman\",\n",
    "  \"Avicii\",\n",
    "  \"Metanolová aféra\",\n",
    "  \"Mistrovství světa v ledním hokeji 2018\",\n",
    "  \"Dmitrij Jaškin\",\n",
    "  \"Meghan Markle\",\n",
    "  \"Alžběta II.\",\n",
    "  \"Důl Dukla (Dolní Suchá)\",\n",
    "  \"Virginia Apgarová\",\n",
    "  \"Mistrovství světa ve fotbale 2018\",\n",
    "  \"Taťána Malá\",\n",
    "  \"Gottfried Wilhelm Leibniz\",\n",
    "  \"The Rolling Stones\",\n",
    "  \"Chorvatsko\",\n",
    "  \"Petr Krčál\",\n",
    "  \"Zatmění Měsíce 27. července 2018\",\n",
    "  \"Tatra T3\",\n",
    "  \"Pelé\",\n",
    "  \"Donatella Versace\",\n",
    "  \"Invaze vojsk Varšavské smlouvy do Československa\",\n",
    "  \"Jan Kalous (herec)\",\n",
    "  \"Oskar Schlemmer\",\n",
    "  \"Lobotomie\",\n",
    "  \"Seznam světců a mučedníků katolické církve\",\n",
    "  \"Svatý Václav\",\n",
    "  \"Mamba zelená\",\n",
    "  \"Alois Rašín\",\n",
    "  \"Vilémovický tis\",\n",
    "  \"Tomáš Garrigue Masaryk\",\n",
    "  \"Halloween\",\n",
    "  \"Milada Horáková\",\n",
    "  \"Andrej Babiš\",\n",
    "  \"Freddie Mercury\",\n",
    "  \"Adventní věnec\",\n",
    "  \"Samuel Colt\",\n",
    "  \"Jiří Dvořák (herec)\",\n",
    "  \"Jana Štěpánková\"\n",
    "]"
   ]
  },
  {
   "cell_type": "code",
   "execution_count": 7,
   "metadata": {},
   "outputs": [],
   "source": [
    "urlstart = \"https://wikimedia.org/api/rest_v1/metrics/pageviews/per-article/cs.wikipedia/all-access/user/\"\n",
    "urlend = \"/daily/2018010100/2018123100\"\n",
    "for art in arts:\n",
    "    r = requests.get(urlstart + art + urlend)\n",
    "    entryjson = r.json()\n",
    "    break"
   ]
  },
  {
   "cell_type": "code",
   "execution_count": 15,
   "metadata": {},
   "outputs": [],
   "source": [
    "x = []\n",
    "y = []\n",
    "for entry in entryjson['items']:\n",
    "    x.append(int(entry['timestamp']))\n",
    "    y.append(int(entry['views']))"
   ]
  },
  {
   "cell_type": "code",
   "execution_count": 18,
   "metadata": {},
   "outputs": [
    {
     "data": {
      "image/png": "[encoded data removed]",
      "text/plain": [
       "<Figure size 432x288 with 1 Axes>"
      ]
     },
     "metadata": {
      "needs_background": "light"
     },
     "output_type": "display_data"
    }
   ],
   "source": [
    "plt.fill_between(x, y)\n",
    "plt.show()"
   ]
  }
 ],
 "metadata": {
  "kernelspec": {
   "display_name": "Python 3",
   "language": "python",
   "name": "python3"
  },
  "language_info": {
   "codemirror_mode": {
    "name": "ipython",
    "version": 3
   },
   "file_extension": ".py",
   "mimetype": "text/x-python",
   "name": "python",
   "nbconvert_exporter": "python",
   "pygments_lexer": "ipython3",
   "version": "3.7.0"
  }
 },
 "nbformat": 4,
 "nbformat_minor": 2
}
