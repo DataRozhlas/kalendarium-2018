{
 "cells": [
  {
   "cell_type": "code",
   "execution_count": 30,
   "metadata": {},
   "outputs": [],
   "source": [
    "import requests, datetime\n",
    "import matplotlib"
   ]
  },
  {
   "cell_type": "code",
   "execution_count": 3,
   "metadata": {},
   "outputs": [],
   "source": [
    "# loading the article list\n",
    "arts = [\n",
    "  \"Marie Terezie\",\n",
    "  \"Jiří Drahoš\",\n",
    "  \"Miloš Zeman\",\n",
    "  \"Světlana Witowská\",\n",
    "  \"Petr Nedvěd\",\n",
    "  \"Gay pornografie\",\n",
    "  \"Zimní olympijské hry 2018\",\n",
    "  \"Ester Ledecká\",\n",
    "  \"Viktorie (britská královna)\",\n",
    "  \"Mezinárodní den žen\",\n",
    "  \"Stephen Hawking\",\n",
    "  \"Velikonoce\",\n",
    "  \"Velký pátek\",\n",
    "  \"Oliver Cromwell\",\n",
    "  \"Miloš Forman\",\n",
    "  \"Avicii\",\n",
    "  \"Metanolová aféra\",\n",
    "  \"Mistrovství světa v ledním hokeji 2018\",\n",
    "  \"Dmitrij Jaškin\",\n",
    "  \"Meghan Markle\",\n",
    "  \"Alžběta II.\",\n",
    "  \"Důl Dukla (Dolní Suchá)\",\n",
    "  \"Virginia Apgarová\",\n",
    "  \"Mistrovství světa ve fotbale 2018\",\n",
    "  \"Taťána Malá\",\n",
    "  \"Gottfried Wilhelm Leibniz\",\n",
    "  \"The Rolling Stones\",\n",
    "  \"Chorvatsko\",\n",
    "  \"Petr Krčál\",\n",
    "  \"Zatmění Měsíce 27. července 2018\",\n",
    "  \"Tatra T3\",\n",
    "  \"Pelé\",\n",
    "  \"Donatella Versace\",\n",
    "  \"Invaze vojsk Varšavské smlouvy do Československa\",\n",
    "  \"Jan Kalous (herec)\",\n",
    "  \"Oskar Schlemmer\",\n",
    "  \"Lobotomie\",\n",
    "  \"Seznam světců a mučedníků katolické církve\",\n",
    "  \"Svatý Václav\",\n",
    "  \"Mamba zelená\",\n",
    "  \"Alois Rašín\",\n",
    "  \"Vilémovický tis\",\n",
    "  \"Tomáš Garrigue Masaryk\",\n",
    "  \"Halloween\",\n",
    "  \"Milada Horáková\",\n",
    "  \"Andrej Babiš\",\n",
    "  \"Freddie Mercury\",\n",
    "  \"Adventní věnec\",\n",
    "  \"Samuel Colt\",\n",
    "  \"Jiří Dvořák (herec)\",\n",
    "  \"Jana Štěpánková\"\n",
    "]"
   ]
  },
  {
   "cell_type": "code",
   "execution_count": 7,
   "metadata": {},
   "outputs": [],
   "source": [
    "urlstart = \"https://wikimedia.org/api/rest_v1/metrics/pageviews/per-article/cs.wikipedia/all-access/user/\"\n",
    "urlend = \"/daily/2018010100/2018123100\"\n",
    "for art in arts:\n",
    "    r = requests.get(urlstart + art + urlend)\n",
    "    entryjson = r.json()\n",
    "    break"
   ]
  },
  {
   "cell_type": "code",
   "execution_count": 36,
   "metadata": {},
   "outputs": [
    {
     "name": "stdout",
     "output_type": "stream",
     "text": [
      "[736695. 736696. 736697. 736698. 736699. 736700. 736701. 736702. 736703.\n",
      " 736704. 736705. 736706. 736707. 736708. 736709. 736710. 736711. 736712.\n",
      " 736713. 736714. 736715. 736716. 736717. 736718. 736719. 736720. 736721.\n",
      " 736722. 736723. 736724. 736725. 736726. 736727. 736728. 736729. 736730.\n",
      " 736731. 736732. 736733. 736734. 736735. 736736. 736737. 736738. 736739.\n",
      " 736740. 736741. 736742. 736743. 736744. 736745. 736746. 736747. 736748.\n",
      " 736749. 736750. 736751. 736752. 736753. 736754. 736755. 736756. 736757.\n",
      " 736758. 736759. 736760. 736761. 736762. 736763. 736764. 736765. 736766.\n",
      " 736767. 736768. 736769. 736770. 736771. 736772. 736773. 736774. 736775.\n",
      " 736776. 736777. 736778. 736779. 736780. 736781. 736782. 736783. 736784.\n",
      " 736785. 736786. 736787. 736788. 736789. 736790. 736791. 736792. 736793.\n",
      " 736794. 736795. 736796. 736797. 736798. 736799. 736800. 736801. 736802.\n",
      " 736803. 736804. 736805. 736806. 736807. 736808. 736809. 736810. 736811.\n",
      " 736812. 736813. 736814. 736815. 736816. 736817. 736818. 736819. 736820.\n",
      " 736821. 736822. 736823. 736824. 736825. 736826. 736827. 736828. 736829.\n",
      " 736830. 736831. 736832. 736833. 736834. 736835. 736836. 736837. 736838.\n",
      " 736839. 736840. 736841. 736842. 736843. 736844. 736845. 736846. 736847.\n",
      " 736848. 736849. 736850. 736851. 736852. 736853. 736854. 736855. 736856.\n",
      " 736857. 736858. 736859. 736860. 736861. 736862. 736863. 736864. 736865.\n",
      " 736866. 736867. 736868. 736869. 736870. 736871. 736872. 736873. 736874.\n",
      " 736875. 736876. 736877. 736878. 736879. 736880. 736881. 736882. 736883.\n",
      " 736884. 736885. 736886. 736887. 736888. 736889. 736890. 736891. 736892.\n",
      " 736893. 736894. 736895. 736896. 736897. 736898. 736899. 736900. 736901.\n",
      " 736902. 736903. 736904. 736905. 736906. 736907. 736908. 736909. 736910.\n",
      " 736911. 736912. 736913. 736914. 736915. 736916. 736917. 736918. 736919.\n",
      " 736920. 736921. 736922. 736923. 736924. 736925. 736926. 736927. 736928.\n",
      " 736929. 736930. 736931. 736932. 736933. 736934. 736935. 736936. 736937.\n",
      " 736938. 736939. 736940. 736941. 736942. 736943. 736944. 736945. 736946.\n",
      " 736947. 736948. 736949. 736950. 736951. 736952. 736953. 736954. 736955.\n",
      " 736956. 736957. 736958. 736959. 736960. 736961. 736962. 736963. 736964.\n",
      " 736965. 736966. 736967. 736968. 736969. 736970. 736971. 736972. 736973.\n",
      " 736974. 736975. 736976. 736977. 736978. 736979. 736980. 736981. 736982.\n",
      " 736983. 736984. 736985. 736986. 736987. 736988. 736989. 736990. 736991.\n",
      " 736992. 736993. 736994. 736995. 736996. 736997. 736998. 736999. 737000.\n",
      " 737001. 737002. 737003. 737004. 737005. 737006. 737007. 737008. 737009.\n",
      " 737010. 737011. 737012. 737013. 737014. 737015. 737016. 737017. 737018.\n",
      " 737019. 737020. 737021. 737022. 737023. 737024. 737025. 737026. 737027.\n",
      " 737028. 737029. 737030. 737031. 737032. 737033. 737034. 737035. 737036.\n",
      " 737037. 737038. 737039. 737040. 737041. 737042. 737043. 737044. 737045.\n",
      " 737046. 737047. 737048. 737049. 737050. 737051. 737052. 737053.]\n"
     ]
    }
   ],
   "source": [
    "x = []\n",
    "y = []\n",
    "for entry in entryjson['items']:\n",
    "    x.append(datetime.datetime.strptime(entry['timestamp'], \"%Y%m%d%H\"))\n",
    "    y.append(int(entry['views']))\n",
    "    \n",
    "x = matplotlib.dates.date2num(x)\n",
    "print(x)    "
   ]
  },
  {
   "cell_type": "code",
   "execution_count": 38,
   "metadata": {},
   "outputs": [
    {
     "data": {
      "image/png": "[encoded data removed]",
      "text/plain": [
       "<Figure size 432x288 with 1 Axes>"
      ]
     },
     "metadata": {
      "needs_background": "light"
     },
     "output_type": "display_data"
    }
   ],
   "source": [
    "plt = matplotlib.pyplot\n",
    "plt.plot_date(x, y)\n",
    "plt.show()"
   ]
  }
 ],
 "metadata": {
  "kernelspec": {
   "display_name": "Python 3",
   "language": "python",
   "name": "python3"
  },
  "language_info": {
   "codemirror_mode": {
    "name": "ipython",
    "version": 3
   },
   "file_extension": ".py",
   "mimetype": "text/x-python",
   "name": "python",
   "nbconvert_exporter": "python",
   "pygments_lexer": "ipython3",
   "version": "3.7.0"
  }
 },
 "nbformat": 4,
 "nbformat_minor": 2
}
