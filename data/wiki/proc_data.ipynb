{
 "cells": [
  {
   "cell_type": "code",
   "execution_count": 1,
   "metadata": {},
   "outputs": [],
   "source": [
    "import datetime, csv\n",
    "from collections import defaultdict"
   ]
  },
  {
   "cell_type": "code",
   "execution_count": 4,
   "metadata": {},
   "outputs": [],
   "source": [
    "dates = []\n",
    "date1 = '2018-01-01'\n",
    "date2 = '2018-12-16'\n",
    "start = datetime.datetime.strptime(date1, '%Y-%m-%d')\n",
    "end = datetime.datetime.strptime(date2, '%Y-%m-%d')\n",
    "step = datetime.timedelta(days=1)\n",
    "while start <= end:\n",
    "    dates.append(start.strftime(\"%Y%m%d\"))\n",
    "    start += step"
   ]
  },
  {
   "cell_type": "code",
   "execution_count": 38,
   "metadata": {},
   "outputs": [
    {
     "name": "stdout",
     "output_type": "stream",
     "text": [
      "1 Marie Terezie\n",
      "2 Jiří Drahoš\n",
      "3 Jiří Drahoš\n",
      "4 Jiří Drahoš\n",
      "5 Petr Nedvěd\n",
      "6 Gay pornografie\n",
      "7 Gay pornografie\n",
      "8 Ester Ledecká\n",
      "9 Gay pornografie\n",
      "10 Mezinárodní den žen\n",
      "11 Stephen Hawking\n",
      "12 Velikonoce\n",
      "13 Velikonoce\n",
      "14 Oliver Cromwell\n",
      "15 Miloš Forman\n",
      "16 Avicii\n",
      "17 Metanolová aféra\n",
      "18 Mistrovství světa v ledním hokeji 2018\n",
      "19 Dmitrij Jaškin\n",
      "20 Meghan Markle\n",
      "21 Alžběta II.\n",
      "22 Důl Dukla (Dolní Suchá)\n",
      "23 Virginia Apgarová\n",
      "24 Mistrovství světa ve fotbale 2018\n",
      "25 Mistrovství světa ve fotbale 2018\n",
      "26 Mistrovství světa ve fotbale 2018\n",
      "27 Mistrovství světa ve fotbale 2018\n",
      "28 Mistrovství světa ve fotbale\n",
      "29 Petr Krčál\n",
      "30 Zatmění Měsíce 27. července 2018\n",
      "31 Tatra T3\n",
      "32 Tatra T3\n",
      "33 Tatra T3\n",
      "34 Invaze vojsk Varšavské smlouvy do Československa\n",
      "35 Jan Kalous (herec)\n",
      "36 Oskar Schlemmer\n",
      "37 Lobotomie\n",
      "38 Seznam světců a mučedníků katolické církve\n",
      "39 Svatý Václav\n",
      "40 Mamba zelená\n",
      "41 Alois Rašín\n",
      "42 Vilémovický tis\n",
      "43 Tomáš Garrigue Masaryk\n",
      "44 Halloween\n",
      "45 Milada Horáková\n",
      "46 Andrej Babiš\n",
      "47 Freddie Mercury\n",
      "48 Freddie Mercury\n",
      "49 Samuel Colt\n",
      "50 Jiří Dvořák (herec)\n"
     ]
    }
   ],
   "source": [
    "week = 1\n",
    "weekday = 1\n",
    "data = {1: defaultdict(int)}\n",
    "for date in dates:\n",
    "    with open(date+\".csv\",encoding=\"utf8\",newline='') as daily_file:\n",
    "        reader = csv.reader(daily_file)\n",
    "        next(reader)\n",
    "        for line in reader:\n",
    "            data[week][line[0]] += int(line[1])\n",
    "    if weekday < 7:\n",
    "        weekday += 1\n",
    "    else:\n",
    "        weekday = 1\n",
    "        week += 1\n",
    "        data[week] = defaultdict(int)\n",
    "#print(data)\n",
    "\n",
    "for week in data:\n",
    "    weekly_result = list([entry, data[week][entry]] for entry in data[week])\n",
    "    weekly_result.sort(key=lambda x: x[1], reverse=True)\n",
    "    for entry in weekly_result:\n",
    "        if entry[0] != \"Hlavní strana\" and entry[0] != \"Speciální:Hledání\" and entry[0] != \"Hlavní stránka\" and entry[0] != \"Wikipedie:Wikikonference\":\n",
    "            print(week, entry[0])\n",
    "            break"
   ]
  },
  {
   "cell_type": "code",
   "execution_count": null,
   "metadata": {},
   "outputs": [],
   "source": []
  }
 ],
 "metadata": {
  "kernelspec": {
   "display_name": "Python 3",
   "language": "python",
   "name": "python3"
  },
  "language_info": {
   "codemirror_mode": {
    "name": "ipython",
    "version": 3
   },
   "file_extension": ".py",
   "mimetype": "text/x-python",
   "name": "python",
   "nbconvert_exporter": "python",
   "pygments_lexer": "ipython3",
   "version": "3.7.0"
  }
 },
 "nbformat": 4,
 "nbformat_minor": 2
}
