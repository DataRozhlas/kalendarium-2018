{
 "cells": [
  {
   "cell_type": "code",
   "execution_count": 27,
   "metadata": {},
   "outputs": [],
   "source": [
    "import datetime, csv, json, requests"
   ]
  },
  {
   "cell_type": "code",
   "execution_count": 12,
   "metadata": {},
   "outputs": [],
   "source": [
    "dates = []\n",
    "date1 = '2018-01-01'\n",
    "date2 = '2018-12-16'\n",
    "start = datetime.datetime.strptime(date1, '%Y-%m-%d')\n",
    "end = datetime.datetime.strptime(date2, '%Y-%m-%d')\n",
    "step = datetime.timedelta(days=1)\n",
    "while start <= end:\n",
    "    dates.append(start.strftime(\"%Y/%m/%d\"))\n",
    "    start += step"
   ]
  },
  {
   "cell_type": "code",
   "execution_count": null,
   "metadata": {},
   "outputs": [],
   "source": [
    "for date in dates:\n",
    "    print(date)\n",
    "    r = requests.get(\"https://wikimedia.org/api/rest_v1/metrics/pageviews/top/cs.wikipedia/all-access/\" + date)\n",
    "    arts = r.json()[\"items\"][0][\"articles\"]\n",
    "    with open(date.replace(\"/\",\"\")+\".csv\",\"w\",encoding=\"utf8\",newline='') as daily_file:\n",
    "        writer = csv.writer(daily_file)\n",
    "        writer.writerow([\"name\", \"views\"])\n",
    "        for art in arts:\n",
    "            writer.writerow([art[\"article\"].replace(\"_\", \" \"), art[\"views\"]]) "
   ]
  }
 ],
 "metadata": {
  "kernelspec": {
   "display_name": "Python 3",
   "language": "python",
   "name": "python3"
  },
  "language_info": {
   "codemirror_mode": {
    "name": "ipython",
    "version": 3
   },
   "file_extension": ".py",
   "mimetype": "text/x-python",
   "name": "python",
   "nbconvert_exporter": "python",
   "pygments_lexer": "ipython3",
   "version": "3.7.0"
  }
 },
 "nbformat": 4,
 "nbformat_minor": 2
}
