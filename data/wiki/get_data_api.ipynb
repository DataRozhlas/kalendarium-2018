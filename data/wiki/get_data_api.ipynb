{
 "cells": [
  {
   "cell_type": "code",
   "execution_count": 1,
   "metadata": {},
   "outputs": [],
   "source": [
    "import datetime, csv, json, requests"
   ]
  },
  {
   "cell_type": "code",
   "execution_count": 2,
   "metadata": {},
   "outputs": [],
   "source": [
    "dates = []\n",
    "date1 = '2018-12-24'\n",
    "date2 = '2018-12-30'\n",
    "start = datetime.datetime.strptime(date1, '%Y-%m-%d')\n",
    "end = datetime.datetime.strptime(date2, '%Y-%m-%d')\n",
    "step = datetime.timedelta(days=1)\n",
    "while start <= end:\n",
    "    dates.append(start.strftime(\"%Y/%m/%d\"))\n",
    "    start += step"
   ]
  },
  {
   "cell_type": "code",
   "execution_count": 3,
   "metadata": {},
   "outputs": [
    {
     "name": "stdout",
     "output_type": "stream",
     "text": [
      "2018/12/24\n",
      "2018/12/25\n",
      "2018/12/26\n",
      "2018/12/27\n",
      "2018/12/28\n",
      "2018/12/29\n",
      "2018/12/30\n"
     ]
    }
   ],
   "source": [
    "for date in dates:\n",
    "    print(date)\n",
    "    r = requests.get(\"https://wikimedia.org/api/rest_v1/metrics/pageviews/top/cs.wikipedia/all-access/\" + date)\n",
    "    arts = r.json()[\"items\"][0][\"articles\"]\n",
    "    with open(date.replace(\"/\",\"\")+\".csv\",\"w\",encoding=\"utf8\",newline='') as daily_file:\n",
    "        writer = csv.writer(daily_file)\n",
    "        writer.writerow([\"name\", \"views\"])\n",
    "        for art in arts:\n",
    "            writer.writerow([art[\"article\"].replace(\"_\", \" \"), art[\"views\"]]) "
   ]
  },
  {
   "cell_type": "code",
   "execution_count": null,
   "metadata": {},
   "outputs": [],
   "source": []
  }
 ],
 "metadata": {
  "kernelspec": {
   "display_name": "Python 3",
   "language": "python",
   "name": "python3"
  },
  "language_info": {
   "codemirror_mode": {
    "name": "ipython",
    "version": 3
   },
   "file_extension": ".py",
   "mimetype": "text/x-python",
   "name": "python",
   "nbconvert_exporter": "python",
   "pygments_lexer": "ipython3",
   "version": "3.7.0"
  }
 },
 "nbformat": 4,
 "nbformat_minor": 2
}
