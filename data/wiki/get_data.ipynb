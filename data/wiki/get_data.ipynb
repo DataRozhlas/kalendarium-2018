{
 "cells": [
  {
   "cell_type": "code",
   "execution_count": 1,
   "metadata": {},
   "outputs": [],
   "source": [
    "import requests, gzip, datetime, io, csv\n",
    "from collections import defaultdict"
   ]
  },
  {
   "cell_type": "code",
   "execution_count": 2,
   "metadata": {},
   "outputs": [],
   "source": [
    "dates = []\n",
    "date1 = '2018-07-14'\n",
    "date2 = '2018-12-13'\n",
    "start = datetime.datetime.strptime(date1, '%Y-%m-%d')\n",
    "end = datetime.datetime.strptime(date2, '%Y-%m-%d')\n",
    "step = datetime.timedelta(days=1)\n",
    "while start <= end:\n",
    "    dates.append(start.strftime(\"%Y%m%d\"))\n",
    "    start += step"
   ]
  },
  {
   "cell_type": "code",
   "execution_count": null,
   "metadata": {},
   "outputs": [],
   "source": [
    "for date in dates:\n",
    "    print(date + \" (position \" + str(dates.index(date)) + \")\")\n",
    "    \n",
    "    daily_data = defaultdict(int)\n",
    "    for hour in range(0,24):\n",
    "        filename = \"pageviews-\"+date+\"-\"+str(hour).zfill(2)+\"0000.gz\"\n",
    "        print(filename+ \":\", end =\" \")\n",
    "        r = requests.get('https://dumps.wikimedia.org/other/pageviews/2018/2018-' + date[4:6] + \"/\" + filename)\n",
    "        print(\"Downloaded\", end=\" \")\n",
    "        hourly_file = gzip.open(io.BytesIO(r.content), \"rt\", encoding=\"utf8\").readlines()\n",
    "        print(\"Decompressed\", end=\" \")\n",
    "        for line in hourly_file:\n",
    "            if line.startswith(\"cs \") or line.startswith(\"cs.m \"):\n",
    "                daily_data[line.strip().split()[1].replace(\"_\", \" \")] += int(line.strip().split()[-2])\n",
    "        print(\"Processed\")\n",
    "        \n",
    "    daily_result = list([entry, daily_data[entry]] for entry in daily_data)\n",
    "    daily_result.sort(key=lambda x: x[1], reverse=True)\n",
    "    \n",
    "    with open(date+\".csv\",\"w\",encoding=\"utf8\",newline='') as daily_file:\n",
    "        writer = csv.writer(daily_file)\n",
    "        writer.writerow([\"name\", \"views\"])\n",
    "        for entry in daily_result:\n",
    "            writer.writerow(entry)\n",
    "        \n",
    "    print(date + \" done\")"
   ]
  },
  {
   "cell_type": "code",
   "execution_count": null,
   "metadata": {},
   "outputs": [],
   "source": []
  }
 ],
 "metadata": {
  "kernelspec": {
   "display_name": "Python 3",
   "language": "python",
   "name": "python3"
  },
  "language_info": {
   "codemirror_mode": {
    "name": "ipython",
    "version": 3
   },
   "file_extension": ".py",
   "mimetype": "text/x-python",
   "name": "python",
   "nbconvert_exporter": "python",
   "pygments_lexer": "ipython3",
   "version": "3.7.0"
  }
 },
 "nbformat": 4,
 "nbformat_minor": 2
}
